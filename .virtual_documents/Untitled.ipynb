!python --version


pip list


import cv2
import os

# Folder containing the images
image_folder = 'data-2'

# Get all image file paths from the folder
image_files = sorted([f for f in os.listdir(image_folder) if f.endswith(('png', 'jpg', 'jpeg'))])

# print(image_files)

for image_file in image_files:
    label=image_file.split('-')[1].split('.')[0]
    readImg=cv2.imread(os.path.join(image_folder, image_file))
    print(readImg)
    



